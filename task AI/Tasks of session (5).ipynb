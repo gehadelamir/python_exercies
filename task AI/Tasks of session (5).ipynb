{
 "cells": [
  {
   "cell_type": "markdown",
   "metadata": {},
   "source": [
    "Usage of hash function in python data structure :-\n",
    "\n",
    "*Data integrity*,\n",
    "*Password verification*,\n",
    "*Data structures*,\n",
    "*Digital signatures*,\n",
    "*File fingerprinting*,\n"
   ]
  },
  {
   "cell_type": "markdown",
   "metadata": {},
   "source": [
    "Graph implementation in many ways"
   ]
  },
  {
   "cell_type": "code",
   "execution_count": 4,
   "metadata": {},
   "outputs": [
    {
     "name": "stdout",
     "output_type": "stream",
     "text": [
      "Adding an edge between 0 and 1 and between 1 and 0\n",
      "Adding an edge between 0 and 2 and between 2 and 0\n",
      "\n",
      "Adjacency Matrix:\n",
      "0 1 1 0 0 \n",
      "1 0 0 0 0 \n",
      "1 0 0 0 0 \n",
      "0 0 0 0 0 \n",
      "0 0 0 0 0 \n"
     ]
    }
   ],
   "source": [
    "#Adjacency Matrix representation of a graph\n",
    "#This constructor is used to initialize the adjacecny matrix  with 0.\n",
    "class Graph:\n",
    "  def __init__(self, vertices):\n",
    "        self.V = vertices\n",
    "        self.graph = [[0 for column in range(vertices)]\n",
    "                            for row in range(vertices)]\n",
    "    \n",
    "\n",
    "    # This function prints the adjacency matrix of the graph\n",
    "    # Due to two nested loops, it is O(V^2)\n",
    "  def printGraph(self):\n",
    "        print(\"\\nAdjacency Matrix:\")\n",
    "        for i in range(self.V):\n",
    "            for j in range(self.V):\n",
    "                print(self.graph[i][j], end = \" \")\n",
    "            print()\n",
    "    \n",
    "    # This function is used to add an edge\n",
    "    # between vertices v and w.\n",
    "    # This implementation is for undirected graph\n",
    "  def addEdge(self, v, w):\n",
    "        print(\"Adding an edge between\", v , \"and\", w , \"and between\", w , \"and\", v)\n",
    "        self.graph[v][w] = 1\n",
    "        self.graph[w][v] = 1\n",
    "    \n",
    "\n",
    "    # This function is used to add a\n",
    "    # vertex to the graph.\n",
    "  def addVertex(self, v):\n",
    "        self.V += 1\n",
    "        for i in range(self.V):\n",
    "            self.graph[i].append(0)\n",
    "        self.graph.append([0 for column in range(self.V)])\n",
    "    \n",
    "\n",
    "if __name__ == \"__main__\":\n",
    "\n",
    "    # Initialize the graph with 5 vertices\n",
    "    g = Graph(5)\n",
    "\n",
    "    # An edge between 0 and 1 and between 1 and 0 will be created\n",
    "    g.addEdge(0, 1)\n",
    "\n",
    "    # An edge between 0 and 2 and between 2 and 0 will be created\n",
    "    g.addEdge(0, 2)\n",
    "\n",
    "    g.printGraph()\n",
    "\n",
    "\n"
   ]
  },
  {
   "cell_type": "markdown",
   "metadata": {},
   "source": []
  }
 ],
 "metadata": {
  "kernelspec": {
   "display_name": "Python 3",
   "language": "python",
   "name": "python3"
  },
  "language_info": {
   "codemirror_mode": {
    "name": "ipython",
    "version": 3
   },
   "file_extension": ".py",
   "mimetype": "text/x-python",
   "name": "python",
   "nbconvert_exporter": "python",
   "pygments_lexer": "ipython3",
   "version": "3.10.5"
  },
  "orig_nbformat": 4
 },
 "nbformat": 4,
 "nbformat_minor": 2
}
