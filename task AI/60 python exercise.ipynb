{
 "cells": [
  {
   "cell_type": "markdown",
   "id": "759d04ba",
   "metadata": {},
   "source": [
    "**1-Write a Python program to calculate the length of a string using 2 ways"
   ]
  },
  {
   "cell_type": "code",
   "execution_count": 3,
   "id": "e434c950",
   "metadata": {},
   "outputs": [
    {
     "name": "stdout",
     "output_type": "stream",
     "text": [
      "lenght of string using len function 15\n"
     ]
    }
   ],
   "source": [
    "#Write a Python program to calculate the length of a string using 2 ways\n",
    "#way1 Using the built-in len() function\n",
    "string =(\"Hello Eng Ahmed\")\n",
    "lenght=len(string)\n",
    "print(\"lenght of string using len function\",lenght)\n",
    "\n",
    "\n"
   ]
  },
  {
   "cell_type": "code",
   "execution_count": 2,
   "id": "7a2dfa32",
   "metadata": {},
   "outputs": [
    {
     "name": "stdout",
     "output_type": "stream",
     "text": [
      "lenght of string using a loop 15\n"
     ]
    }
   ],
   "source": [
    "#way2 Using a loop to count the characters in the string\n",
    "count =0\n",
    "for char in string:\n",
    "    count+=1\n",
    "print(\"lenght of string using a loop\",count)"
   ]
  },
  {
   "cell_type": "markdown",
   "id": "d7cc9da7",
   "metadata": {},
   "source": [
    "**2-Write a Python program to get a string made of the first 2 and last 2 characters of a given string. If the string length is less than 2, return the empty string instead (\"##Sample String : 'w3resource'\n",
    "Expected Result : 'w3ce'\n",
    "##Sample String : 'w3'\n",
    "Expected Result : 'w3w3'\n",
    "##Sample String : ' w'\n",
    "Expected Result : Empty String)"
   ]
  },
  {
   "cell_type": "markdown",
   "id": "247e0ac7",
   "metadata": {},
   "source": []
  },
  {
   "cell_type": "code",
   "execution_count": 5,
   "id": "dafa9dd8",
   "metadata": {},
   "outputs": [
    {
     "name": "stdout",
     "output_type": "stream",
     "text": [
      "w3ce\n",
      "w3w3\n",
      " w w\n"
     ]
    }
   ],
   "source": [
    "def get_string(string):\n",
    "    if len(string) < 2:\n",
    "        return \"\"\n",
    "    else:\n",
    "        first_two = string[:2]\n",
    "        last_two = string[-2:]\n",
    "        return first_two + last_two\n",
    "\n",
    "\n",
    "# Examples\n",
    "print(get_string(\"w3resource\"))\n",
    "print(get_string(\"w3\"))\n",
    "print(get_string(\" w\"))\n"
   ]
  },
  {
   "cell_type": "markdown",
   "id": "1534f956",
   "metadata": {},
   "source": [
    "**3-Write a Python program to add 'ing' at the end of a given string (length should be at least 3). If the given string already ends with 'ing', add 'ly' instead. If the string length of the given string is less than 3, leave it unchanged. (Sample String : 'abc'\n",
    "Expected Result : 'abcing')"
   ]
  },
  {
   "cell_type": "code",
   "execution_count": 1,
   "id": "c7c76c1c",
   "metadata": {},
   "outputs": [
    {
     "name": "stdout",
     "output_type": "stream",
     "text": [
      "abcing\n",
      "stringly\n",
      "go\n"
     ]
    }
   ],
   "source": [
    "def add_ing_or_ly(string):\n",
    "    if len(string) < 3:\n",
    "        return string\n",
    "    elif string[-3:] == \"ing\":\n",
    "        return string + \"ly\"\n",
    "    else:\n",
    "        return string + \"ing\"\n",
    "\n",
    "print(add_ing_or_ly(\"abc\"))         \n",
    "print(add_ing_or_ly(\"string\"))      \n",
    "print(add_ing_or_ly(\"go\")) "
   ]
  },
  {
   "cell_type": "markdown",
   "id": "1c0a6627",
   "metadata": {},
   "source": [
    "**4-Write a Python function that takes a list of words and return the longest word and the length of the longest one\n",
    "(Longest word: Exercises\n",
    "Length of the longest word: 9)"
   ]
  },
  {
   "cell_type": "code",
   "execution_count": 2,
   "id": "397341d9",
   "metadata": {},
   "outputs": [
    {
     "name": "stdout",
     "output_type": "stream",
     "text": [
      "Longest word: general-purpose\n",
      "Length of the longest word: 15\n"
     ]
    }
   ],
   "source": [
    "def longest_word(words):\n",
    "    max_length = 0\n",
    "    longest = \"\"\n",
    "    for word in words:\n",
    "        if len(word) > max_length:\n",
    "            max_length = len(word)\n",
    "            longest = word\n",
    "    return longest, max_length\n",
    "\n",
    "\n",
    "words = [\"Python\", \"is\", \"a\", \"high-level\", \"programming\",\n",
    "         \"language\", \"for\", \"general-purpose\", \"programming\"]\n",
    "longest, length = longest_word(words)\n",
    "print(\"Longest word:\", longest)\n",
    "print(\"Length of the longest word:\", length)\n"
   ]
  },
  {
   "cell_type": "markdown",
   "id": "53a03a6a",
   "metadata": {},
   "source": [
    "**5-Write a Python program to change a given string to a newly string where the first and last chars have been exchanged using 2 ways (Sample String:abca  Expected Result:ebce)"
   ]
  },
  {
   "cell_type": "code",
   "execution_count": 3,
   "id": "fd327d2a",
   "metadata": {},
   "outputs": [
    {
     "name": "stdout",
     "output_type": "stream",
     "text": [
      "Original string: abca\n",
      "New string: abca\n"
     ]
    }
   ],
   "source": [
    "def exchange_chars(string):\n",
    "    if len(string) < 2:\n",
    "        return string\n",
    "    else:\n",
    "        return string[-1] + string[1:-1] + string[0]\n",
    "\n",
    "\n",
    "string = \"abca\"\n",
    "new_string = exchange_chars(string)\n",
    "print(\"Original string:\", string)\n",
    "print(\"New string:\", new_string)\n"
   ]
  },
  {
   "cell_type": "code",
   "execution_count": 4,
   "id": "285788b4",
   "metadata": {},
   "outputs": [
    {
     "name": "stdout",
     "output_type": "stream",
     "text": [
      "Original string: abca\n",
      "New string: abca\n"
     ]
    }
   ],
   "source": [
    "def exchange_chars(string):\n",
    "    if len(string) < 2:\n",
    "        return string\n",
    "    else:\n",
    "        chars = list(string)\n",
    "        chars[0], chars[-1] = chars[-1], chars[0]\n",
    "        return \"\".join(chars)\n",
    "\n",
    "\n",
    "# Example\n",
    "string = \"abca\"\n",
    "new_string = exchange_chars(string)\n",
    "print(\"Original string:\", string)\n",
    "print(\"New string:\", new_string)\n"
   ]
  },
  {
   "cell_type": "markdown",
   "id": "25f89808",
   "metadata": {},
   "source": [
    "**6-Write a Python program to remove characters that have odd index values in a given string (Sample String:abca Expected Result:ac)"
   ]
  },
  {
   "cell_type": "code",
   "execution_count": 5,
   "id": "05959bd7",
   "metadata": {},
   "outputs": [
    {
     "name": "stdout",
     "output_type": "stream",
     "text": [
      "Original string: abca\n",
      "New string: ac\n"
     ]
    }
   ],
   "source": [
    "def remove_odd_chars(string):\n",
    "    new_string = \"\"\n",
    "    for i in range(len(string)):\n",
    "        if i % 2 == 0:\n",
    "            new_string += string[i]\n",
    "    return new_string\n",
    "\n",
    "\n",
    "# Example\n",
    "string = \"abca\"\n",
    "new_string = remove_odd_chars(string)\n",
    "print(\"Original string:\", string)\n",
    "print(\"New string:\", new_string)\n"
   ]
  },
  {
   "cell_type": "markdown",
   "id": "eb16e898",
   "metadata": {},
   "source": [
    "**7-Write a Python program to count the occurrences of each word in a given sentence (Sample String:amr and ahmed are frindes but amr is the tallest Expected Result:2)"
   ]
  },
  {
   "cell_type": "code",
   "execution_count": 6,
   "id": "01ce6cf5",
   "metadata": {},
   "outputs": [
    {
     "name": "stdout",
     "output_type": "stream",
     "text": [
      "{'amr': 2, 'and': 1, 'ahmed': 1, 'are': 1, 'friends': 1, 'but': 1, 'is': 1, 'the': 1, 'tallest': 1}\n"
     ]
    }
   ],
   "source": [
    "def count_words(sentence):\n",
    "    words = sentence.split()\n",
    "    counts = {}\n",
    "    for word in words:\n",
    "        if word in counts:\n",
    "            counts[word] += 1\n",
    "        else:\n",
    "            counts[word] = 1\n",
    "    return counts\n",
    "\n",
    "\n",
    "sentence = \"amr and ahmed are friends but amr is the tallest\"\n",
    "word_counts = count_words(sentence)\n",
    "print(word_counts)\n"
   ]
  },
  {
   "cell_type": "markdown",
   "id": "4e8125f1",
   "metadata": {},
   "source": [
    "**8-Write a Python script that takes input from the user and displays that input back in upper and lower cases"
   ]
  },
  {
   "cell_type": "code",
   "execution_count": 10,
   "id": "24a1fd67",
   "metadata": {},
   "outputs": [
    {
     "name": "stdout",
     "output_type": "stream",
     "text": [
      "Uppercase: GEHAD\n",
      "Lowercase: gehad\n"
     ]
    }
   ],
   "source": [
    "string = input(\"Enter a string: \")\n",
    "\n",
    "print(\"Uppercase:\", string.upper())\n",
    "print(\"Lowercase:\", string.lower())\n"
   ]
  },
  {
   "cell_type": "markdown",
   "id": "fcd68aa1",
   "metadata": {},
   "source": [
    "**9-Write a Python function to reverse a string if its length is a multiple of 4"
   ]
  },
  {
   "cell_type": "code",
   "execution_count": 11,
   "id": "0671a931",
   "metadata": {},
   "outputs": [
    {
     "name": "stdout",
     "output_type": "stream",
     "text": [
      "Original string: abcdefg\n",
      "New string: abcdefg\n"
     ]
    }
   ],
   "source": [
    "def reverse_string(string):\n",
    "    if len(string) % 4 == 0:\n",
    "        return string[::-1]\n",
    "    else:\n",
    "        return string\n",
    "\n",
    "\n",
    "# Example\n",
    "string = \"abcdefg\"\n",
    "new_string = reverse_string(string)\n",
    "print(\"Original string:\", string)\n",
    "print(\"New string:\", new_string)\n"
   ]
  },
  {
   "cell_type": "markdown",
   "id": "b577c68d",
   "metadata": {},
   "source": [
    "**10- Write a Python program to remove a newline in Python"
   ]
  },
  {
   "cell_type": "code",
   "execution_count": 12,
   "id": "e0c6525a",
   "metadata": {},
   "outputs": [
    {
     "name": "stdout",
     "output_type": "stream",
     "text": [
      "String with newline: Hello,\n",
      "World!\n",
      "String without newline: Hello,\n",
      "World!\n"
     ]
    }
   ],
   "source": [
    "string_with_newline = \"Hello,\\nWorld!\"\n",
    "string_without_newline = string_with_newline.strip(\"\\n\")\n",
    "\n",
    "print(\"String with newline:\", string_with_newline)\n",
    "print(\"String without newline:\", string_without_newline)\n"
   ]
  },
  {
   "cell_type": "markdown",
   "id": "80db5ae0",
   "metadata": {},
   "source": [
    "**11-Write a Python program to check whether a string starts with specified characters"
   ]
  },
  {
   "cell_type": "code",
   "execution_count": 13,
   "id": "0cc4e03e",
   "metadata": {},
   "outputs": [
    {
     "name": "stdout",
     "output_type": "stream",
     "text": [
      "Gehad does not start with gehad\n"
     ]
    }
   ],
   "source": [
    "def startswith(string, prefix):\n",
    "    if string[:len(prefix)] == prefix:\n",
    "        return True\n",
    "    return False\n",
    "\n",
    "\n",
    "string = input(\"Enter the string: \")\n",
    "prefix = input(\"Enter the prefix to check: \")\n",
    "result = startswith(string, prefix)\n",
    "if result:\n",
    "    print(f\"{string} starts with {prefix}\")\n",
    "else:\n",
    "    print(f\"{string} does not start with {prefix}\")\n"
   ]
  },
  {
   "cell_type": "markdown",
   "id": "593a68db",
   "metadata": {},
   "source": [
    "**12- Write a Python program to add prefix text to all of the lines in a string"
   ]
  },
  {
   "cell_type": "code",
   "execution_count": 14,
   "id": "d2e46ada",
   "metadata": {},
   "outputs": [
    {
     "name": "stdout",
     "output_type": "stream",
     "text": [
      "++Hello \n",
      "++how are you?\n",
      "++I am good.\n"
     ]
    }
   ],
   "source": [
    "def add_prefix(string, prefix):\n",
    "    lines = string.split(\"\\n\")\n",
    "    result = []\n",
    "    for line in lines:\n",
    "        result.append(prefix + line)\n",
    "    return \"\\n\".join(result)\n",
    "\n",
    "\n",
    "string = \"\"\"Hello \n",
    "how are you?\n",
    "I am good.\"\"\"\n",
    "\n",
    "print(add_prefix(string, \"++\"))\n"
   ]
  },
  {
   "cell_type": "markdown",
   "id": "86fa1543",
   "metadata": {},
   "source": [
    "**13-Write a Python program to print the following numbers up to 2 decimal places"
   ]
  },
  {
   "cell_type": "code",
   "execution_count": 15,
   "id": "cd4a9d89",
   "metadata": {},
   "outputs": [
    {
     "name": "stdout",
     "output_type": "stream",
     "text": [
      "0.33\n",
      "2.35\n",
      "-1.23\n",
      "4.57\n",
      "10.00\n"
     ]
    }
   ],
   "source": [
    "import decimal\n",
    "\n",
    "numbers = [1.0/3, 2.345345, -1.234, 4.56789, 9.9999]\n",
    "\n",
    "for number in numbers:\n",
    "    print(decimal.Decimal(number).quantize(decimal.Decimal('0.00')))\n"
   ]
  },
  {
   "cell_type": "markdown",
   "id": "452c0ab0",
   "metadata": {},
   "source": [
    "**14-Write a Python program to print the following numbers up to 2 decimal places with a sign"
   ]
  },
  {
   "cell_type": "code",
   "execution_count": 16,
   "id": "73e82479",
   "metadata": {},
   "outputs": [
    {
     "name": "stdout",
     "output_type": "stream",
     "text": [
      "1.23\n",
      "-2.35\n",
      "3.46\n",
      "-4.57\n"
     ]
    }
   ],
   "source": [
    "numbers = [1.23456, -2.3456, 3.45678, -4.56789]\n",
    "\n",
    "for num in numbers:\n",
    "    print(\"{:.2f}\".format(num))\n"
   ]
  },
  {
   "cell_type": "markdown",
   "id": "32b1811a",
   "metadata": {},
   "source": [
    "**15-Write a Python program to display a number with a comma separator"
   ]
  },
  {
   "cell_type": "code",
   "execution_count": 17,
   "id": "f30fc0b6",
   "metadata": {},
   "outputs": [
    {
     "name": "stdout",
     "output_type": "stream",
     "text": [
      "12,345,679\n"
     ]
    }
   ],
   "source": [
    "number = 12345679\n",
    "\n",
    "formatted_number = \"{:,}\".format(number)\n",
    "\n",
    "print(formatted_number)\n"
   ]
  },
  {
   "cell_type": "markdown",
   "id": "0477f487",
   "metadata": {},
   "source": [
    "**16-Write a Python program to reverse a string using 2 ways"
   ]
  },
  {
   "cell_type": "code",
   "execution_count": 18,
   "id": "aa8beec8",
   "metadata": {},
   "outputs": [
    {
     "name": "stdout",
     "output_type": "stream",
     "text": [
      "!dlroW ,olleH\n",
      "!dlroW ,olleH\n"
     ]
    }
   ],
   "source": [
    "def reverse_string(s):\n",
    "    return s[::-1]\n",
    "\n",
    "\n",
    "input_string = \"Hello, World!\"\n",
    "reversed_string = reverse_string(input_string)\n",
    "print(reversed_string)\n",
    "\n",
    "#Method 2: Using a loop\n",
    "\n",
    "\n",
    "def reverse_string(s):\n",
    "    reversed_str = \"\"\n",
    "    for char in s:\n",
    "        reversed_str = char + reversed_str\n",
    "    return reversed_str\n",
    "\n",
    "\n",
    "input_string = \"Hello, World!\"\n",
    "reversed_string = reverse_string(input_string)\n",
    "print(reversed_string)\n"
   ]
  },
  {
   "cell_type": "markdown",
   "id": "5afc3166",
   "metadata": {},
   "source": [
    " **17-Write a Python program to count repeated characters in a string (hint:use dictionary)"
   ]
  },
  {
   "cell_type": "code",
   "execution_count": 19,
   "id": "515a469c",
   "metadata": {},
   "outputs": [
    {
     "name": "stdout",
     "output_type": "stream",
     "text": [
      "{'l': 3, 'o': 2}\n"
     ]
    }
   ],
   "source": [
    "def count_repeated_characters(string):\n",
    "    char_count = {}\n",
    "    for char in string:\n",
    "        if char in char_count:\n",
    "            char_count[char] += 1\n",
    "        else:\n",
    "            char_count[char] = 1\n",
    "    repeated_chars = {char: count for char,\n",
    "                      count in char_count.items() if count > 1}\n",
    "    return repeated_chars\n",
    "\n",
    "\n",
    "input_string = \"Hello, World!\"\n",
    "repeated_characters = count_repeated_characters(input_string)\n",
    "print(repeated_characters)\n"
   ]
  },
  {
   "cell_type": "markdown",
   "id": "ae14e4e5",
   "metadata": {},
   "source": [
    "**18-Write a Python program to find the first non-repeating character in a given string"
   ]
  },
  {
   "cell_type": "code",
   "execution_count": 20,
   "id": "d73778e5",
   "metadata": {},
   "outputs": [
    {
     "name": "stdout",
     "output_type": "stream",
     "text": [
      "First non-repeating character: H\n"
     ]
    }
   ],
   "source": [
    "def find_first_non_repeating(string):\n",
    "    char_count = {}\n",
    "    for char in string:\n",
    "        if char in char_count:\n",
    "            char_count[char] += 1\n",
    "        else:\n",
    "            char_count[char] = 1\n",
    "    for char in string:\n",
    "        if char_count[char] == 1:\n",
    "            return char\n",
    "    return None\n",
    "\n",
    "\n",
    "input_string = \"Hello, World!\"\n",
    "first_non_repeating_char = find_first_non_repeating(input_string)\n",
    "print(\"First non-repeating character:\", first_non_repeating_char)\n"
   ]
  },
  {
   "cell_type": "markdown",
   "id": "3adf5669",
   "metadata": {},
   "source": [
    "**19-Write a Python program to remove spaces from a given string"
   ]
  },
  {
   "cell_type": "code",
   "execution_count": 21,
   "id": "b4f22602",
   "metadata": {},
   "outputs": [
    {
     "name": "stdout",
     "output_type": "stream",
     "text": [
      "String without spaces: Hello,World!\n"
     ]
    }
   ],
   "source": [
    "def remove_spaces(string):\n",
    "    return string.replace(\" \", \"\")\n",
    "\n",
    "\n",
    "# Example usage\n",
    "input_string = \"Hello, World!\"\n",
    "string_without_spaces = remove_spaces(input_string)\n",
    "print(\"String without spaces:\", string_without_spaces)\n"
   ]
  },
  {
   "cell_type": "markdown",
   "id": "734de60c",
   "metadata": {},
   "source": [
    "**20-Write a Python program to count the number of non-empty substrings of a given string"
   ]
  },
  {
   "cell_type": "code",
   "execution_count": 22,
   "id": "ef3f2274",
   "metadata": {},
   "outputs": [
    {
     "name": "stdout",
     "output_type": "stream",
     "text": [
      "Number of non-empty substrings: 15\n"
     ]
    }
   ],
   "source": [
    "def count_substrings(string):\n",
    "    length = len(string)\n",
    "    return int(length * (length + 1) / 2)\n",
    "\n",
    "\n",
    "# Example usage\n",
    "input_string = \"Hello\"\n",
    "num_substrings = count_substrings(input_string)\n",
    "print(\"Number of non-empty substrings:\", num_substrings)\n"
   ]
  },
  {
   "cell_type": "markdown",
   "id": "509998e2",
   "metadata": {},
   "source": [
    "**21-write a Python program to swap first and last element of any list."
   ]
  },
  {
   "cell_type": "code",
   "execution_count": 1,
   "id": "68692d7f",
   "metadata": {},
   "outputs": [
    {
     "name": "stdout",
     "output_type": "stream",
     "text": [
      "[3, 2, 1]\n"
     ]
    }
   ],
   "source": [
    "\n",
    "# Swap function\n",
    "def swapList(newList):\n",
    "    size = len(newList)\n",
    "\n",
    "    # Swapping\n",
    "    temp = newList[0]\n",
    "    newList[0] = newList[size - 1]\n",
    "    newList[size - 1] = temp\n",
    "\n",
    "    return newList\n",
    "\n",
    "\n",
    "# Driver code\n",
    "newList = [1,2,3]\n",
    "\n",
    "print(swapList(newList))\n"
   ]
  },
  {
   "cell_type": "markdown",
   "id": "959e0837",
   "metadata": {},
   "source": [
    "**22-Given a list in Python and provided the positions of the elements, write a program to swap the two elements in the list. (Input : List = [23, 65, 19, 90], pos1 = 1, pos2 = 3\n",
    "Output : [19, 65, 23, 90])"
   ]
  },
  {
   "cell_type": "code",
   "execution_count": 2,
   "id": "225d8c6d",
   "metadata": {},
   "outputs": [
    {
     "name": "stdout",
     "output_type": "stream",
     "text": [
      "[19, 65, 23, 90]\n"
     ]
    }
   ],
   "source": [
    "def swapPositions(list, pos1, pos2):\n",
    "    list[pos1],list[pos2]=list[pos2],list[pos1]\n",
    "    return list\n",
    "\n",
    "list=[23,65,19,90]\n",
    "pos1,pos2 = 1,3 \n",
    "\n",
    "print(swapPositions(list,pos1-1,pos2-1))\n"
   ]
  },
  {
   "cell_type": "markdown",
   "id": "66fc6682",
   "metadata": {},
   "source": [
    "**23- search for the all ways to know the length of the list"
   ]
  },
  {
   "cell_type": "code",
   "execution_count": 3,
   "id": "a37e0507",
   "metadata": {},
   "outputs": [
    {
     "name": "stdout",
     "output_type": "stream",
     "text": [
      "the lenght of G is 3\n"
     ]
    }
   ],
   "source": [
    "G=[1,2,3]\n",
    "n=len(G)\n",
    "print(\"the lenght of G is\",n)"
   ]
  },
  {
   "cell_type": "markdown",
   "id": "baabdfbe",
   "metadata": {},
   "source": [
    "**24-write a Python code to find the Maximum number of list of numbers."
   ]
  },
  {
   "cell_type": "code",
   "execution_count": 5,
   "id": "63ff8b43",
   "metadata": {},
   "outputs": [
    {
     "name": "stdout",
     "output_type": "stream",
     "text": [
      "max number is : 95\n"
     ]
    }
   ],
   "source": [
    "list1=[25,30,35,80,95]\n",
    "\n",
    "print(\"max number is :\",max(list1))\n",
    " \n"
   ]
  },
  {
   "cell_type": "markdown",
   "id": "a6156403",
   "metadata": {},
   "source": [
    "**25-write a Python code to find the Minimum number of list of numbers."
   ]
  },
  {
   "cell_type": "code",
   "execution_count": 6,
   "id": "1a89b9d3",
   "metadata": {},
   "outputs": [
    {
     "name": "stdout",
     "output_type": "stream",
     "text": [
      "max number is : 25\n"
     ]
    }
   ],
   "source": [
    "list1=[25,30,35,80,95]\n",
    "\n",
    "print(\"max number is :\",min(list1))"
   ]
  },
  {
   "cell_type": "markdown",
   "id": "96822d96",
   "metadata": {},
   "source": [
    "**26-search for if an elem is existing in list"
   ]
  },
  {
   "cell_type": "code",
   "execution_count": 9,
   "id": "51ca5c9a",
   "metadata": {},
   "outputs": [
    {
     "name": "stdout",
     "output_type": "stream",
     "text": [
      "no\n"
     ]
    }
   ],
   "source": [
    "list1=[25,30,35,80,95]\n",
    "i=5\n",
    "if i in list1:\n",
    "    print(\"true\")\n",
    "else:\n",
    "    print(\"no\")\n"
   ]
  },
  {
   "cell_type": "markdown",
   "id": "d9557da7",
   "metadata": {},
   "source": [
    "**27- clear python list using different ways"
   ]
  },
  {
   "cell_type": "code",
   "execution_count": 14,
   "id": "b69858a3",
   "metadata": {},
   "outputs": [
    {
     "name": "stdout",
     "output_type": "stream",
     "text": [
      "G befor clear is  [2, 4, 6, 8, 10]\n",
      "G after clear is  []\n"
     ]
    }
   ],
   "source": [
    "G=[2,4,6,8,10]\n",
    "print(\"G befor clear is \", G)\n",
    "\n",
    "G.clear()\n",
    "print(\"G after clear is \",G)\n"
   ]
  },
  {
   "cell_type": "markdown",
   "id": "52160e88",
   "metadata": {},
   "source": [
    "**28-remove duplicated elements from a list"
   ]
  },
  {
   "cell_type": "code",
   "execution_count": 17,
   "id": "5e362228",
   "metadata": {},
   "outputs": [
    {
     "name": "stdout",
     "output_type": "stream",
     "text": [
      "[2, 4, 6, 8, 5, 7, 3]\n"
     ]
    }
   ],
   "source": [
    "def Remove(duplicate):\n",
    "    final_list=[]\n",
    "    for num in duplicate:\n",
    "        if num not in final_list:\n",
    "            final_list.append(num)\n",
    "    return  final_list\n",
    "    \n",
    "duplicate =[2,4,6,4,8,5,7,8,7,3]\n",
    "print(Remove(duplicate))\n"
   ]
  },
  {
   "cell_type": "markdown",
   "id": "282337f7",
   "metadata": {},
   "source": [
    "**29-Given list values and keys list, convert these values to key value pairs in form of list of dictionaries. (Input : test_list = [“Gfg”, 3, “is”, 8], key_list = [“name”, “id”]\n",
    "Output : [{‘name’: ‘Gfg’, ‘id’: 3}, {‘name’: ‘is’, ‘id’: 8}])"
   ]
  },
  {
   "cell_type": "code",
   "execution_count": 18,
   "id": "4d4e2d28",
   "metadata": {},
   "outputs": [
    {
     "name": "stdout",
     "output_type": "stream",
     "text": [
      "The original list : ['Gfg', 3, 'is', 8]\n",
      "The constructed dictionary list : [{'name': 'Gfg', 'id': 3}, {'name': 'is', 'id': 8}]\n"
     ]
    }
   ],
   "source": [
    "test_list = [\"Gfg\", 3, \"is\", 8]\n",
    "\n",
    "print(\"The original list : \" + str(test_list))\n",
    "\n",
    "key_list = [\"name\", \"id\"]\n",
    "n=len(test_list)\n",
    "res=[]\n",
    "for idx in range(0, n, 2):\n",
    "    res.append({key_list[0]: test_list[idx], key_list[1]: test_list[idx + 1]})\n",
    "\n",
    "print(\"The constructed dictionary list : \" + str(res))\n",
    "\n"
   ]
  },
  {
   "cell_type": "markdown",
   "id": "c26b6e9f",
   "metadata": {},
   "source": [
    "**30-write a python program to count unique values inside a list using different ways"
   ]
  },
  {
   "cell_type": "code",
   "execution_count": 23,
   "id": "72132667",
   "metadata": {},
   "outputs": [
    {
     "name": "stdout",
     "output_type": "stream",
     "text": [
      "No of unique items are: 5\n"
     ]
    }
   ],
   "source": [
    "\n",
    "\n",
    "input_list = [1, 2, 2, 5, 8, 4, 4, 8]\n",
    "\n",
    "l1 = []\n",
    "\n",
    "count = 0\n",
    "for item in input_list:\n",
    "    if item not in l1:\n",
    "        count += 1\n",
    "        l1.append(item)\n",
    "\n",
    "print(\"No of unique items are:\", count)\n"
   ]
  },
  {
   "cell_type": "markdown",
   "id": "fed6677c",
   "metadata": {},
   "source": [
    "**31-write a python program Extract all elements with Frequency greater than K (Input : test_list = [4, 6, 4, 3, 3, 4, 3, 4, 3, 8], K = 3 \n",
    "Output : [4, 3] )"
   ]
  },
  {
   "cell_type": "code",
   "execution_count": 33,
   "id": "d81f3f9d",
   "metadata": {},
   "outputs": [
    {
     "name": "stdout",
     "output_type": "stream",
     "text": [
      "The required elements : [4, 3]\n"
     ]
    }
   ],
   "source": [
    "\n",
    "test_list = [4, 6, 4, 3, 3, 4, 3, 7, 8, 8]\n",
    "K = 2\n",
    "\n",
    "res = []\n",
    "for i in test_list:\n",
    "\tfreq = test_list.count(i)\n",
    "\tif freq > K and i not in res:\n",
    "\t\tres.append(i)\n",
    "\n",
    "print(\"The required elements : \" + str(res))\n"
   ]
  },
  {
   "cell_type": "markdown",
   "id": "caca5224",
   "metadata": {},
   "source": [
    "**32-write a python program to find the Strongest Neighbour (Input: 1 2 2 3 4 5\n",
    "Output: 2 2 3 4 5)"
   ]
  },
  {
   "cell_type": "code",
   "execution_count": 37,
   "id": "39fbd9b2",
   "metadata": {},
   "outputs": [
    {
     "name": "stdout",
     "output_type": "stream",
     "text": [
      "22345"
     ]
    }
   ],
   "source": [
    "n=6\n",
    "a1=[1, 2, 2, 3, 4, 5]\n",
    "a2=[]\n",
    "for i in range (1,n):\n",
    "    r= max(a1[i],a1[i-1])\n",
    "    a2.append(r)\n",
    "for i in a2:\n",
    "\n",
    "    print(i,end=\"\")\n",
    "\n",
    " "
   ]
  },
  {
   "cell_type": "markdown",
   "id": "a9fa8baf",
   "metadata": {},
   "source": [
    "**33-write a Python Program to print all Possible Combinations from the three Digits (Input: [1, 2, 3]\n",
    "Output:\n",
    "1 2 3 ##\n",
    "1 3 2 ##\n",
    "2 1 3 ##\n",
    "2 3 1 ##\n",
    "3 1 2 ##\n",
    "3 2 1)"
   ]
  },
  {
   "cell_type": "code",
   "execution_count": 38,
   "id": "8c520a76",
   "metadata": {},
   "outputs": [
    {
     "name": "stdout",
     "output_type": "stream",
     "text": [
      "(1, 2, 3)\n",
      "(1, 3, 2)\n",
      "(2, 1, 3)\n",
      "(2, 3, 1)\n",
      "(3, 1, 2)\n",
      "(3, 2, 1)\n"
     ]
    }
   ],
   "source": [
    "\n",
    "from itertools import permutations\n",
    "\n",
    "comb = permutations([1, 2, 3], 3)\n",
    "\n",
    "for i in comb:\n",
    "\tprint(i)\n"
   ]
  },
  {
   "cell_type": "markdown",
   "id": "5288bb89",
   "metadata": {},
   "source": [
    "**34-write a Python program to find all the Combinations in the list with the given condition (Input: test_list = [1,2,3] \n",
    "Output: \n",
    " [1], [1, 2], [1, 2, 3], [1, 3]\n",
    " [2], [2, 3], [3])"
   ]
  },
  {
   "cell_type": "code",
   "execution_count": 39,
   "id": "59b89646",
   "metadata": {},
   "outputs": [
    {
     "name": "stdout",
     "output_type": "stream",
     "text": [
      "[1]\n",
      "[1, 2]\n",
      "[1, 2, 3]\n",
      "[1, 3]\n",
      "[2]\n",
      "[2, 3]\n",
      "[3]\n"
     ]
    }
   ],
   "source": [
    "import copy\n",
    "\n",
    "\n",
    "def combinations(target, data):\n",
    "\n",
    "\tfor i in range(len(data)):\n",
    "\n",
    "\t\tnew_lis = copy.copy(target)\n",
    "\t\tnew_data = copy.copy(data)\n",
    "#\t\t print(new_lis, new_data)\n",
    "\t\tnew_lis.append(data[i])\n",
    "\t\tnew_data = data[i+1:]\n",
    "\n",
    "\t\tprint(new_lis)\n",
    "\n",
    "\t\tcombinations(new_lis,\n",
    "                    new_data)\n",
    "\n",
    "\n",
    "target = []\n",
    "data = [1, 2, 3]\n",
    "\n",
    "combinations(target, data)\n"
   ]
  },
  {
   "cell_type": "markdown",
   "id": "39973705",
   "metadata": {},
   "source": [
    "**35-write a Python program to get all unique combinations of two Lists (List_1 = [\"a\",\"b\"]\n",
    "List_2 = [1,2]\n",
    "Unique_combination = [[('a',1),('b',2)],[('a',2),('b',1)]] )"
   ]
  },
  {
   "cell_type": "code",
   "execution_count": 40,
   "id": "8c4ba22b",
   "metadata": {},
   "outputs": [
    {
     "name": "stdout",
     "output_type": "stream",
     "text": [
      "[('a', 1), ('a', 2), ('b', 1), ('b', 2)]\n"
     ]
    }
   ],
   "source": [
    "import itertools\n",
    "\n",
    "def get_unique_combinations(list1, list2):\n",
    "\n",
    "  unique_combinations = []\n",
    "  for item1 in list1:\n",
    "    for item2 in list2:\n",
    "      combination = (item1, item2)\n",
    "      if combination not in unique_combinations:\n",
    "        unique_combinations.append(combination)\n",
    "\n",
    "  return unique_combinations\n",
    "\n",
    "\n",
    "list1 = [\"a\", \"b\"]\n",
    "list2 = [1, 2]\n",
    "\n",
    "unique_combinations = get_unique_combinations(list1, list2)\n",
    "\n",
    "print(unique_combinations)\n"
   ]
  },
  {
   "cell_type": "markdown",
   "id": "25199af5",
   "metadata": {},
   "source": [
    "**36-Remove all the occurrences of an element from a list in Python (Input : 1 1 2 3 4 5 1 2 1 \n",
    "\n",
    "**Output : 2 3 4 5 2)"
   ]
  },
  {
   "cell_type": "code",
   "execution_count": 41,
   "id": "6dc4c2ba",
   "metadata": {},
   "outputs": [
    {
     "name": "stdout",
     "output_type": "stream",
     "text": [
      "[2, 3, 4, 5, 2]\n"
     ]
    }
   ],
   "source": [
    "def remove_all_occurrences(list1, element):\n",
    " \n",
    "  new_list = []\n",
    "  for item in list1:\n",
    "    if item != element:\n",
    "      new_list.append(item)\n",
    "\n",
    "  return new_list\n",
    "\n",
    "\n",
    "list1 = [1, 1, 2, 3, 4, 5, 1, 2, 1]\n",
    "element = 1\n",
    "\n",
    "new_list = remove_all_occurrences(list1, element)\n",
    "\n",
    "print(new_list)\n"
   ]
  },
  {
   "cell_type": "markdown",
   "id": "bf1a3c93",
   "metadata": {},
   "source": [
    "**37-write a python program to Replace index elements with elements in Other List (The original list 1 is : [‘Gfg’, ‘is’, ‘best’] The original list 2 is : [0, 1, 2, 1, 0, 0, 0, 2, 1, 1, 2, 0] The lists after index elements replacements is : [‘Gfg’, ‘is’, ‘best’, ‘is’, ‘Gfg’, ‘Gfg’, ‘Gfg’, ‘best’, ‘is’, ‘is’, ‘best’, ‘Gfg’])"
   ]
  },
  {
   "cell_type": "code",
   "execution_count": 43,
   "id": "fdd66a71",
   "metadata": {},
   "outputs": [
    {
     "name": "stdout",
     "output_type": "stream",
     "text": [
      "The original list 1 is : ['Gfg', 'is', 'best']\n",
      "The original list 2 is : [0, 1, 2, 1, 0, 0, 0, 2, 1, 1, 2, 0]\n",
      "The lists after index elements replacements is : ['Gfg', 'is', 'best', 'is', 'Gfg', 'Gfg', 'Gfg', 'best', 'is', 'is', 'best', 'Gfg']\n"
     ]
    }
   ],
   "source": [
    "\n",
    "test_list1 = ['Gfg', 'is', 'best']\n",
    "test_list2 = [0, 1, 2, 1, 0, 0, 0, 2, 1, 1, 2, 0]\n",
    "\n",
    "\n",
    "print(\"The original list 1 is : \" + str(test_list1))\n",
    "print(\"The original list 2 is : \" + str(test_list2))\n",
    "\n",
    "res = [test_list1[idx] for idx in test_list2]\n",
    "\n",
    "print(\"The lists after index elements replacements is : \" + str(res))\n"
   ]
  },
  {
   "cell_type": "markdown",
   "id": "af0f56e8",
   "metadata": {},
   "source": [
    "**38- write python program to Retain records with N occurrences of K(Input : test_list = [(4, 5, 5, 4), (5, 4, 3)], K = 5, N = 2 \n",
    "Output : [(4, 5, 5, 4)]\n",
    "Input : test_list = [(4, 5, 5, 4), (5, 4, 3)], K = 5, N = 3 \n",
    "Output : [] )"
   ]
  },
  {
   "cell_type": "code",
   "execution_count": 46,
   "id": "67b06671",
   "metadata": {},
   "outputs": [
    {
     "name": "stdout",
     "output_type": "stream",
     "text": [
      "Filtered tuples : [(4, 5, 5, 4)]\n"
     ]
    }
   ],
   "source": [
    "\n",
    "test_list = [(4, 5,5, 4), (8, 4, 3)]\n",
    "\n",
    "K = 5\n",
    "N = 2\n",
    "\n",
    "res = [ele for ele in test_list if ele.count(K) == N]\n",
    "\n",
    "print(\"Filtered tuples : \" + str(res))\n"
   ]
  },
  {
   "cell_type": "markdown",
   "id": "de76f183",
   "metadata": {},
   "source": [
    "**39-write a Python Program to Sort the list according to the column using lambda\n",
    "array = [[1, 3, 3], [2, 1, 2], [3, 2, 1]]\n",
    "Output :\n",
    "Sorted array specific to column 0, [[1, 3, 3], [2, 1, 2], [3, 2, 1]]\n",
    "Sorted array specific to column 1, [[2, 1, 2], [3, 2, 1], [1, 3, 3]]\n",
    "Sorted array specific to column 2, [[3, 2, 1], [2, 1, 2], [1, 3, 3]]"
   ]
  },
  {
   "cell_type": "code",
   "execution_count": 48,
   "id": "dc883308",
   "metadata": {},
   "outputs": [
    {
     "name": "stdout",
     "output_type": "stream",
     "text": [
      "Original list:\n",
      "[[2], [0], [1, 3], [0, 7], [9, 11], [13, 15, 17]]\n",
      "\n",
      "Sort the list of lists by length and value:\n",
      "[[0], [2], [0, 7], [1, 3], [9, 11], [13, 15, 17]]\n"
     ]
    }
   ],
   "source": [
    "def sort_sublists(input_list):\n",
    "    result = sorted(input_list, key=lambda l: (len(l), l))\n",
    "    return result\n",
    "\n",
    "\n",
    "list1 = [[2], [0], [1, 3], [0, 7], [9, 11], [13, 15, 17]]\n",
    "print(\"Original list:\")\n",
    "print(list1)\n",
    "print(\"\\nSort the list of lists by length and value:\")\n",
    "print(sort_sublists(list1))\n"
   ]
  },
  {
   "cell_type": "markdown",
   "id": "79cf46c8",
   "metadata": {},
   "source": [
    "**40- write a program to Sort Python Dictionaries by Key or Value\n",
    "Input:\n",
    "{'ravi': 10, 'rajnish': 9, 'sanjeev': 15, 'yash': 2, 'suraj': 32}\n",
    "\n",
    "Output: \n",
    "{'rajnish': 9, 'ravi': 10, 'sanjeev': 15, 'suraj': 32, 'yash': 2}"
   ]
  },
  {
   "cell_type": "code",
   "execution_count": 56,
   "id": "a96db4a0",
   "metadata": {},
   "outputs": [
    {
     "name": "stdout",
     "output_type": "stream",
     "text": [
      "OrderedDict([('rajnish', '9'), ('ravi', '10'), ('sanjeev', '15'), ('suraj', '32'), ('yash', '2')])\n"
     ]
    }
   ],
   "source": [
    "# Creates a sorted dictionary (sorted by key)\n",
    "from collections import OrderedDict\n",
    "\n",
    "dict = {'ravi': '10', 'rajnish': '9',\n",
    "        'sanjeev': '15', 'yash': '2', 'suraj': '32'}\n",
    "dict1 = OrderedDict(sorted(dict.items()))\n",
    "print(dict1)\n"
   ]
  },
  {
   "cell_type": "markdown",
   "id": "ec63c23a",
   "metadata": {},
   "source": [
    "**41-write python program to Remove keys with Values Greater than K ( Including mixed values )\n",
    "nput : test_dict = {‘Gfg’ : 3, ‘is’ : 7, ‘best’ : 10, ‘for’ : 6, ‘geeks’ : ‘CS’},\n",
    "K = 7 \n",
    "Output : {‘Gfg’ : 3, ‘for’ : 6, ‘geeks’ : ‘CS’}"
   ]
  },
  {
   "cell_type": "code",
   "execution_count": 111,
   "id": "9f8b2f2e",
   "metadata": {},
   "outputs": [
    {
     "name": "stdout",
     "output_type": "stream",
     "text": [
      "The original dictionary is :  {'Gfg': 3, 'is': 7, 'best': 10, 'for': 6, 'geeks': 'CS'}\n",
      "The constructed dictionary :  {'Gfg': 3, 'for': 6, 'geeks': 'CS'}\n"
     ]
    }
   ],
   "source": [
    "\n",
    "test_dict = {'Gfg': 3, 'is': 7, 'best': 10, 'for': 6, 'geeks': 'CS'}\n",
    "\n",
    "\n",
    "print(\"The original dictionary is : \" , test_dict)\n",
    "\n",
    "K = 6\n",
    "res = {}\n",
    "for key in test_dict:\n",
    "\tif not (isinstance(test_dict[key], int) and test_dict[key] > K):\n",
    "\t\tres[key] = test_dict[key]\n",
    "\n",
    "# printing result\n",
    "print(\"The constructed dictionary : \", res)\n"
   ]
  },
  {
   "cell_type": "markdown",
   "id": "f143f0fe",
   "metadata": {},
   "source": [
    "**42-Write a Python program to concatenate the following dictionaries to create a new one\n",
    "\n",
    "Sample Dictionary :\n",
    "dic1={1:10, 2:20}\n",
    "dic2={3:30, 4:40}\n",
    "dic3={5:50,6:60}\n",
    "Expected Result : {1: 10, 2: 20, 3: 30, 4: 40, 5: 50, 6: 60}"
   ]
  },
  {
   "cell_type": "code",
   "execution_count": 101,
   "id": "74ffdfea",
   "metadata": {},
   "outputs": [
    {
     "name": "stdout",
     "output_type": "stream",
     "text": [
      "{1: 10, 2: 20, 3: 30, 4: 40, 5: 50, 6: 60}\n"
     ]
    }
   ],
   "source": [
    "dic1 = {1: 10, 2: 20}\n",
    "dic2 = {3: 30, 4: 40}\n",
    "dic3 = {5: 50, 6: 60}\n",
    "dic4 = {}\n",
    "for d in (dic1, dic2, dic3):\n",
    "    dic4.update(d)\n",
    "print(dic4)\n"
   ]
  },
  {
   "cell_type": "markdown",
   "id": "fb04c93c",
   "metadata": {},
   "source": [
    "**43-Write a Python program to iterate over dictionaries using for loops"
   ]
  },
  {
   "cell_type": "code",
   "execution_count": 1,
   "id": "6aebc470",
   "metadata": {},
   "outputs": [
    {
     "name": "stdout",
     "output_type": "stream",
     "text": [
      "Red corresponds to  1\n",
      "Green corresponds to  2\n",
      "Blue corresponds to  3\n"
     ]
    }
   ],
   "source": [
    "d = {'Red': 1, 'Green': 2, 'Blue': 3}\n",
    "for color_key, value in d.items():\n",
    "    print(color_key, 'corresponds to ', d[color_key])\n"
   ]
  },
  {
   "cell_type": "markdown",
   "id": "5f491a9d",
   "metadata": {},
   "source": [
    "**44- Write a Python script to merge two Python dictionaries"
   ]
  },
  {
   "cell_type": "code",
   "execution_count": 121,
   "id": "b8a14028",
   "metadata": {},
   "outputs": [
    {
     "name": "stdout",
     "output_type": "stream",
     "text": [
      "{'a': 100, 'b': 200, 'x': 300, 'y': 200}\n"
     ]
    }
   ],
   "source": [
    "d1 = {'a': 100, 'b': 200}\n",
    "d2 = {'x': 300, 'y': 200}\n",
    "d = d1.copy()\n",
    "d.update(d2)\n",
    "print(d)\n"
   ]
  },
  {
   "cell_type": "markdown",
   "id": "216fc72d",
   "metadata": {},
   "source": [
    "**45-Write a Python program to get the maximum and minimum values of a dictionary values"
   ]
  },
  {
   "cell_type": "code",
   "execution_count": 120,
   "id": "d6883f5f",
   "metadata": {},
   "outputs": [
    {
     "name": "stdout",
     "output_type": "stream",
     "text": [
      "Maximum Value:  5874\n",
      "Minimum Value:  500\n"
     ]
    }
   ],
   "source": [
    "my_dict = {'x': 500, 'y': 5874, 'z': 560}\n",
    "\n",
    "key_max = max(my_dict.keys(), key=(lambda k: my_dict[k]))\n",
    "key_min = min(my_dict.keys(), key=(lambda k: my_dict[k]))\n",
    "\n",
    "print('Maximum Value: ', my_dict[key_max])\n",
    "print('Minimum Value: ', my_dict[key_min])\n"
   ]
  },
  {
   "cell_type": "markdown",
   "id": "b6a53011",
   "metadata": {},
   "source": [
    "**46- Write a Python program to drop empty items from a given dictionary.\n",
    "Original Dictionary:\n",
    "{'c1': 'Red', 'c2': 'Green', 'c3': None}\n",
    "New Dictionary after dropping empty items:\n",
    "{'c1': 'Red', 'c2': 'Green'}"
   ]
  },
  {
   "cell_type": "code",
   "execution_count": 119,
   "id": "b5c6fecf",
   "metadata": {},
   "outputs": [
    {
     "name": "stdout",
     "output_type": "stream",
     "text": [
      "Original Dictionary:\n",
      "{'c1': 'Red', 'c2': 'Green', 'c3': None}\n",
      "New Dictionary after dropping empty items:\n",
      "{'c1': 'Red', 'c2': 'Green'}\n"
     ]
    }
   ],
   "source": [
    "dict1 = {'c1': 'Red', 'c2': 'Green', 'c3': None}\n",
    "print(\"Original Dictionary:\")\n",
    "print(dict1)\n",
    "print(\"New Dictionary after dropping empty items:\")\n",
    "dict1 = {key: value for (key, value) in dict1.items() if value is not None}\n",
    "print(dict1)\n"
   ]
  },
  {
   "cell_type": "markdown",
   "id": "46d718c7",
   "metadata": {},
   "source": [
    "**47-Write a Python program to create a tuple of numbers and print one item"
   ]
  },
  {
   "cell_type": "code",
   "execution_count": 118,
   "id": "13216ff5",
   "metadata": {},
   "outputs": [
    {
     "name": "stdout",
     "output_type": "stream",
     "text": [
      "(5, 10, 15, 20, 25)\n",
      "(5,)\n"
     ]
    }
   ],
   "source": [
    "#Create a tuple with numbers\n",
    "tuplex = 5, 10, 15, 20, 25\n",
    "print(tuplex)\n",
    "#Create a tuple of one item\n",
    "tuplex = 5,\n",
    "print(tuplex)\n"
   ]
  },
  {
   "cell_type": "markdown",
   "id": "2be5b56b",
   "metadata": {},
   "source": [
    "**48-Write a Python program to unpack a tuple into several variables"
   ]
  },
  {
   "cell_type": "code",
   "execution_count": 1,
   "id": "595f44be",
   "metadata": {},
   "outputs": [
    {
     "name": "stdout",
     "output_type": "stream",
     "text": [
      "(4, 8, 3)\n",
      "15\n"
     ]
    },
    {
     "ename": "ValueError",
     "evalue": "not enough values to unpack (expected 4, got 3)",
     "output_type": "error",
     "traceback": [
      "\u001b[1;31m---------------------------------------------------------------------------\u001b[0m",
      "\u001b[1;31mValueError\u001b[0m                                Traceback (most recent call last)",
      "Cell \u001b[1;32mIn[1], line 8\u001b[0m\n\u001b[0;32m      6\u001b[0m \u001b[39mprint\u001b[39m(n1 \u001b[39m+\u001b[39m n2 \u001b[39m+\u001b[39m n3)\n\u001b[0;32m      7\u001b[0m \u001b[39m#the number of variables must be equal to the number of items of the tuple\u001b[39;00m\n\u001b[1;32m----> 8\u001b[0m n1, n2, n3, n4 \u001b[39m=\u001b[39m tuplex\n",
      "\u001b[1;31mValueError\u001b[0m: not enough values to unpack (expected 4, got 3)"
     ]
    }
   ],
   "source": [
    "#create a tuple\n",
    "tuplex = 4, 8, 3\n",
    "print(tuplex)\n",
    "n1, n2, n3 = tuplex\n",
    "#unpack a tuple in variables\n",
    "print(n1 + n2 + n3)\n",
    "#the number of variables must be equal to the number of items of the tuple\n",
    "n1, n2, n3, n4 = tuplex\n"
   ]
  },
  {
   "cell_type": "markdown",
   "id": "392388a7",
   "metadata": {},
   "source": [
    "**49-Write a Python program to add an item to a tuple"
   ]
  },
  {
   "cell_type": "code",
   "execution_count": 2,
   "id": "54cc092e",
   "metadata": {},
   "outputs": [
    {
     "name": "stdout",
     "output_type": "stream",
     "text": [
      "(4, 8, 2, 8, 3, 1)\n",
      "(4, 8, 2, 8, 3, 1, 9)\n"
     ]
    }
   ],
   "source": [
    "#create a tuple\n",
    "tuplex = (4, 8, 2, 8, 3, 1)\n",
    "print(tuplex)\n",
    "tuplex = tuplex + (9,)\n",
    "print(tuplex)\n",
    "\n"
   ]
  },
  {
   "cell_type": "markdown",
   "id": "3e8fd124",
   "metadata": {},
   "source": [
    "**50-Write a Python program to convert a tuple to a string"
   ]
  },
  {
   "cell_type": "code",
   "execution_count": 88,
   "id": "92a71ddc",
   "metadata": {},
   "outputs": [
    {
     "name": "stdout",
     "output_type": "stream",
     "text": [
      "ahmed\n"
     ]
    }
   ],
   "source": [
    "def convertTuple(tup):\n",
    "    str = ''.join(tup)\n",
    "    return str\n",
    "\n",
    "tup=('a','h','m','e','d')\n",
    "str = convertTuple(tup)\n",
    "print(str)\n",
    "\n"
   ]
  },
  {
   "cell_type": "markdown",
   "id": "f4f64ef4",
   "metadata": {},
   "source": [
    "**51-Write a Python program to convert a list to a tuple"
   ]
  },
  {
   "cell_type": "code",
   "execution_count": 82,
   "id": "210d56d3",
   "metadata": {},
   "outputs": [
    {
     "name": "stdout",
     "output_type": "stream",
     "text": [
      "(5, 10, 7, 4, 15, 3)\n"
     ]
    }
   ],
   "source": [
    "#Convert list to tuple\n",
    "listx = [5, 10, 7, 4, 15, 3]\n",
    "\n",
    "tuplex = tuple(listx)\n",
    "print(tuplex)\n"
   ]
  },
  {
   "cell_type": "markdown",
   "id": "b1e00ef7",
   "metadata": {},
   "source": [
    "**52-Write a Python program to reverse a tuple"
   ]
  },
  {
   "cell_type": "code",
   "execution_count": 81,
   "id": "f45bfdc7",
   "metadata": {},
   "outputs": [
    {
     "name": "stdout",
     "output_type": "stream",
     "text": [
      "('d', 'a', 'h', 'e', 'g')\n",
      "(20, 15, 10, 5)\n"
     ]
    }
   ],
   "source": [
    "#create a tuple\n",
    "x = (\"gehad\")\n",
    "# Reversed the tuple\n",
    "y = reversed(x)\n",
    "print(tuple(y))\n",
    "#create another tuple\n",
    "x = (5, 10, 15, 20)\n",
    "# Reversed the tuple\n",
    "y = reversed(x)\n",
    "print(tuple(y))\n"
   ]
  },
  {
   "cell_type": "markdown",
   "id": "3cd347d1",
   "metadata": {},
   "source": [
    "**53-Write a Python program to replace the last value of tuples in a list.\n",
    "Sample list: [(10, 20, 40), (40, 50, 60), (70, 80, 90)]\n",
    "Expected Output: [(10, 20, 100), (40, 50, 100), (70, 80, 100)]"
   ]
  },
  {
   "cell_type": "code",
   "execution_count": 80,
   "id": "3c4a2a4c",
   "metadata": {},
   "outputs": [
    {
     "name": "stdout",
     "output_type": "stream",
     "text": [
      "[(10, 20, 100), (40, 50, 100), (70, 80, 100)]\n"
     ]
    }
   ],
   "source": [
    "l = [(10, 20, 40), (40, 50, 60), (70, 80, 90)]\n",
    "print([t[:-1] + (100,) for t in l])\n"
   ]
  },
  {
   "cell_type": "markdown",
   "id": "76bb7b39",
   "metadata": {},
   "source": [
    "**54-Write a Python program to convert a given string list to a tuple\n",
    "Original string: python 3.0\n",
    "<class 'str'>\n",
    "Convert the said string to a tuple:\n",
    "('p', 'y', 't', 'h', 'o', 'n', '3', '.', '0')"
   ]
  },
  {
   "cell_type": "code",
   "execution_count": 79,
   "id": "51951937",
   "metadata": {},
   "outputs": [
    {
     "name": "stdout",
     "output_type": "stream",
     "text": [
      "Original string: python 3.0\n",
      "<class 'str'>\n",
      "Convert the said string to a tuple:\n",
      "('p', 'y', 't', 'h', 'o', 'n', '3', '.', '0')\n",
      "<class 'tuple'>\n"
     ]
    }
   ],
   "source": [
    "def string_list_to_tuple(str1):\n",
    "    result = tuple(x for x in str1 if not x.isspace())\n",
    "    return result\n",
    "\n",
    "\n",
    "str1 = \"python 3.0\"\n",
    "print(\"Original string:\",str1)\n",
    "print(type(str1))\n",
    "print(\"Convert the said string to a tuple:\")\n",
    "print(string_list_to_tuple(str1))\n",
    "print(type(string_list_to_tuple(str1)))\n"
   ]
  },
  {
   "cell_type": "markdown",
   "id": "5a1d5d97",
   "metadata": {},
   "source": [
    "**55-Write a Python program to calculate the average value of the numbers in a given tuple of tuples"
   ]
  },
  {
   "cell_type": "code",
   "execution_count": 77,
   "id": "834e7992",
   "metadata": {},
   "outputs": [
    {
     "name": "stdout",
     "output_type": "stream",
     "text": [
      "Original Tuple:  ((10, 10, 10, 12), (30, 45, 56, 45), (81, 80, 39, 32), (1, 2, 3, 4))\n",
      "\n",
      "Average value of the numbers of the said tuple of tuples:\n",
      " [30.5, 34.25, 27.0, 23.25]\n",
      "\n",
      "Original Tuple:  ((1, 1, -5), (30, -15, 56), (81, -60, -39), (-10, 2, 3))\n",
      "\n",
      "Average value of the numbers of the said tuple of tuples:\n",
      " [25.5, -18.0, 3.75]\n"
     ]
    }
   ],
   "source": [
    "def average_tuple(nums):\n",
    "    result = [sum(x) / len(x) for x in zip(*nums)]\n",
    "    return result\n",
    "\n",
    "\n",
    "nums = ((10, 10, 10, 12), (30, 45, 56, 45), (81, 80, 39, 32), (1, 2, 3, 4))\n",
    "print(\"Original Tuple: \",nums)\n",
    "print(\"\\nAverage value of the numbers of the said tuple of tuples:\\n\",\n",
    "      average_tuple(nums))\n",
    "\n",
    "nums = ((1, 1, -5), (30, -15, 56), (81, -60, -39), (-10, 2, 3))\n",
    "print(\"\\nOriginal Tuple: \", nums)\n",
    "\n",
    "print(\"\\nAverage value of the numbers of the said tuple of tuples:\\n\",\n",
    "      average_tuple(nums))\n"
   ]
  },
  {
   "cell_type": "markdown",
   "id": "51edab9c",
   "metadata": {},
   "source": [
    "**56-Write a Python program to add member(s) to a set."
   ]
  },
  {
   "cell_type": "code",
   "execution_count": 74,
   "id": "2b65df79",
   "metadata": {},
   "outputs": [
    {
     "name": "stdout",
     "output_type": "stream",
     "text": [
      "\n",
      "Add single element: {'Red'}\n",
      "\n",
      "Add multiple items: {'Green', 'Blue', 'Red'}\n"
     ]
    }
   ],
   "source": [
    "color_set = set()\n",
    "color_set.add(\"Red\")\n",
    "print(\"\\nAdd single element:\",color_set)\n",
    "color_set.update([\"Blue\", \"Green\"])\n",
    "print(\"\\nAdd multiple items:\",color_set)\n",
    "\n",
    "\n"
   ]
  },
  {
   "cell_type": "markdown",
   "id": "965590cc",
   "metadata": {},
   "source": [
    "**57-Write a Python program to remove an item from a set if it is present in the set."
   ]
  },
  {
   "cell_type": "code",
   "execution_count": 69,
   "id": "866bab28",
   "metadata": {},
   "outputs": [
    {
     "name": "stdout",
     "output_type": "stream",
     "text": [
      "Original set elements: {0, 1, 2, 3, 4, 5}\n",
      "\n",
      "Remove 0 from the said set: {0, 1, 2, 3, 5}\n",
      "\n",
      "Remove 5 from the said set: {0, 1, 2, 3}\n",
      "\n",
      "Remove 2 from the said set: {0, 1, 2, 3}\n",
      "\n",
      "Remove 7 from the said set: {0, 1, 2, 3}\n"
     ]
    }
   ],
   "source": [
    "num_set = set([0, 1, 2, 3, 4, 5])\n",
    "print(\"Original set elements:\",num_set)\n",
    "\n",
    "\n",
    "num_set.discard(4)\n",
    "print(\"\\nRemove 0 from the said set:\",num_set)\n",
    "num_set.discard(5)\n",
    "print(\"\\nRemove 5 from the said set:\",num_set)\n",
    "num_set.discard(5)\n",
    "print(\"\\nRemove 2 from the said set:\",num_set)\n",
    "num_set.discard(15)\n",
    "print(\"\\nRemove 7 from the said set:\", num_set)\n"
   ]
  },
  {
   "cell_type": "markdown",
   "id": "2b7cfed1",
   "metadata": {},
   "source": [
    "**58-Write a Python program to create an intersection,union,difference and symmetric difference of sets"
   ]
  },
  {
   "cell_type": "code",
   "execution_count": 66,
   "id": "7f94b7fe",
   "metadata": {},
   "outputs": [
    {
     "name": "stdout",
     "output_type": "stream",
     "text": [
      "union {0, 1, 2, 3, 4, 5, 6, 8}\n",
      "intersection {2, 4}\n",
      "Difference {0, 8, 6}\n",
      "Symmetric difference  {0, 1, 3, 5, 6, 8}\n"
     ]
    }
   ],
   "source": [
    "A = {0, 2, 4, 6, 8}\n",
    "B = {1, 2, 3, 4, 5}\n",
    "\n",
    "print(\"union\",A|B)\n",
    "print(\"intersection\",A&B)\n",
    "print(\"Difference\",A-B)\n",
    "print(\"Symmetric difference \",A^B)\n"
   ]
  },
  {
   "cell_type": "markdown",
   "id": "b94931e2",
   "metadata": {},
   "source": [
    "**59-Write a Python program to find the maximum and minimum values in a set"
   ]
  },
  {
   "cell_type": "code",
   "execution_count": 60,
   "id": "203f9600",
   "metadata": {},
   "outputs": [
    {
     "name": "stdout",
     "output_type": "stream",
     "text": [
      "\n",
      "Maximum value of the said set: 20\n",
      "\n",
      "Minimum value of the said set: 2\n"
     ]
    }
   ],
   "source": [
    "setn = {5, 10, 3, 15, 2, 20}\n",
    "\n",
    "print(\"\\nMaximum value of the said set:\",max(setn))\n",
    "print(\"\\nMinimum value of the said set:\",min(setn))\n"
   ]
  },
  {
   "cell_type": "markdown",
   "id": "255fd554",
   "metadata": {},
   "source": [
    "**60- Write a Python program that finds all pairs of elements in a list whose sum is equal to a given value."
   ]
  },
  {
   "cell_type": "code",
   "execution_count": 57,
   "id": "c2d94e1f",
   "metadata": {},
   "outputs": [
    {
     "name": "stdout",
     "output_type": "stream",
     "text": [
      "[(5, 7), (3, 9)]\n"
     ]
    }
   ],
   "source": [
    "\n",
    "def findPairs(lst, K):\n",
    "\tres = []\n",
    "\twhile lst:\n",
    "\t\tnum = lst.pop()\n",
    "\t\tdiff = K - num\n",
    "\t\tif diff in lst:\n",
    "\t\t\tres.append((diff, num))\n",
    "\n",
    "\tres.reverse()\n",
    "\treturn res\n",
    "# Driver code\n",
    "lst = [1, 5, 3, 7, 9]\n",
    "K = 12\n",
    "print(findPairs(lst, K))\n"
   ]
  }
 ],
 "metadata": {
  "kernelspec": {
   "display_name": "Python 3 (ipykernel)",
   "language": "python",
   "name": "python3"
  },
  "language_info": {
   "codemirror_mode": {
    "name": "ipython",
    "version": 3
   },
   "file_extension": ".py",
   "mimetype": "text/x-python",
   "name": "python",
   "nbconvert_exporter": "python",
   "pygments_lexer": "ipython3",
   "version": "3.10.5"
  }
 },
 "nbformat": 4,
 "nbformat_minor": 5
}
